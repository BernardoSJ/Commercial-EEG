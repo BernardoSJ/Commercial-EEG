{
 "cells": [
  {
   "cell_type": "code",
   "execution_count": 1,
   "metadata": {},
   "outputs": [],
   "source": [
    "import os\n",
    "import pandas as pd\n",
    "import numpy as np\n",
    "import matplotlib.pylab as plt\n",
    "from matplotlib import pyplot\n",
    "from sklearn.ensemble import RandomForestClassifier\n",
    "from sklearn.model_selection import train_test_split\n",
    "from sklearn.tree import DecisionTreeClassifier\n",
    "from sklearn.metrics import classification_report\n",
    "import sklearn.metrics\n",
    "from sklearn import datasets\n",
    "from sklearn.ensemble import ExtraTreesClassifier\n",
    "from sklearn.utils import resample"
   ]
  },
  {
   "cell_type": "code",
   "execution_count": 2,
   "metadata": {},
   "outputs": [],
   "source": [
    "df = pd.read_hdf('DSI-7.hdf')"
   ]
  },
  {
   "cell_type": "code",
   "execution_count": 3,
   "metadata": {},
   "outputs": [
    {
     "data": {
      "text/html": [
       "<div>\n",
       "<style scoped>\n",
       "    .dataframe tbody tr th:only-of-type {\n",
       "        vertical-align: middle;\n",
       "    }\n",
       "\n",
       "    .dataframe tbody tr th {\n",
       "        vertical-align: top;\n",
       "    }\n",
       "\n",
       "    .dataframe thead th {\n",
       "        text-align: right;\n",
       "    }\n",
       "</style>\n",
       "<table border=\"1\" class=\"dataframe\">\n",
       "  <thead>\n",
       "    <tr style=\"text-align: right;\">\n",
       "      <th></th>\n",
       "      <th>case</th>\n",
       "      <th>test</th>\n",
       "      <th>window</th>\n",
       "      <th>seizure</th>\n",
       "      <th>F3-C3</th>\n",
       "      <th>F4-C4</th>\n",
       "      <th>C3-P3</th>\n",
       "      <th>C4-P4</th>\n",
       "      <th>elapsed time</th>\n",
       "      <th>cpu usage</th>\n",
       "      <th>memory usage</th>\n",
       "    </tr>\n",
       "  </thead>\n",
       "  <tbody>\n",
       "    <tr>\n",
       "      <th>0</th>\n",
       "      <td>chb01</td>\n",
       "      <td>0</td>\n",
       "      <td>0</td>\n",
       "      <td>False</td>\n",
       "      <td>5.974126</td>\n",
       "      <td>5.781400</td>\n",
       "      <td>5.512350</td>\n",
       "      <td>5.415369</td>\n",
       "      <td>5.143914</td>\n",
       "      <td>96.9</td>\n",
       "      <td>1651286016</td>\n",
       "    </tr>\n",
       "    <tr>\n",
       "      <th>0</th>\n",
       "      <td>chb01</td>\n",
       "      <td>0</td>\n",
       "      <td>1</td>\n",
       "      <td>False</td>\n",
       "      <td>5.935654</td>\n",
       "      <td>6.027476</td>\n",
       "      <td>5.688999</td>\n",
       "      <td>5.589532</td>\n",
       "      <td>4.289692</td>\n",
       "      <td>96.8</td>\n",
       "      <td>1446494208</td>\n",
       "    </tr>\n",
       "    <tr>\n",
       "      <th>0</th>\n",
       "      <td>chb01</td>\n",
       "      <td>0</td>\n",
       "      <td>2</td>\n",
       "      <td>False</td>\n",
       "      <td>5.834751</td>\n",
       "      <td>5.881431</td>\n",
       "      <td>5.701357</td>\n",
       "      <td>5.635897</td>\n",
       "      <td>4.453572</td>\n",
       "      <td>97.4</td>\n",
       "      <td>1447256064</td>\n",
       "    </tr>\n",
       "    <tr>\n",
       "      <th>0</th>\n",
       "      <td>chb01</td>\n",
       "      <td>0</td>\n",
       "      <td>3</td>\n",
       "      <td>False</td>\n",
       "      <td>5.888986</td>\n",
       "      <td>5.671197</td>\n",
       "      <td>5.355293</td>\n",
       "      <td>5.566865</td>\n",
       "      <td>4.317407</td>\n",
       "      <td>98.0</td>\n",
       "      <td>1446875136</td>\n",
       "    </tr>\n",
       "    <tr>\n",
       "      <th>0</th>\n",
       "      <td>chb01</td>\n",
       "      <td>0</td>\n",
       "      <td>4</td>\n",
       "      <td>False</td>\n",
       "      <td>6.203580</td>\n",
       "      <td>6.146401</td>\n",
       "      <td>5.713649</td>\n",
       "      <td>5.799418</td>\n",
       "      <td>4.254425</td>\n",
       "      <td>97.2</td>\n",
       "      <td>1443860480</td>\n",
       "    </tr>\n",
       "    <tr>\n",
       "      <th>...</th>\n",
       "      <td>...</td>\n",
       "      <td>...</td>\n",
       "      <td>...</td>\n",
       "      <td>...</td>\n",
       "      <td>...</td>\n",
       "      <td>...</td>\n",
       "      <td>...</td>\n",
       "      <td>...</td>\n",
       "      <td>...</td>\n",
       "      <td>...</td>\n",
       "      <td>...</td>\n",
       "    </tr>\n",
       "    <tr>\n",
       "      <th>0</th>\n",
       "      <td>chb06</td>\n",
       "      <td>0</td>\n",
       "      <td>1887</td>\n",
       "      <td>False</td>\n",
       "      <td>6.072874</td>\n",
       "      <td>5.987919</td>\n",
       "      <td>5.773504</td>\n",
       "      <td>5.655213</td>\n",
       "      <td>5.903025</td>\n",
       "      <td>97.5</td>\n",
       "      <td>2447396864</td>\n",
       "    </tr>\n",
       "    <tr>\n",
       "      <th>0</th>\n",
       "      <td>chb06</td>\n",
       "      <td>0</td>\n",
       "      <td>1888</td>\n",
       "      <td>False</td>\n",
       "      <td>5.257771</td>\n",
       "      <td>5.911709</td>\n",
       "      <td>5.755586</td>\n",
       "      <td>6.216934</td>\n",
       "      <td>5.867011</td>\n",
       "      <td>98.1</td>\n",
       "      <td>2447388672</td>\n",
       "    </tr>\n",
       "    <tr>\n",
       "      <th>0</th>\n",
       "      <td>chb06</td>\n",
       "      <td>0</td>\n",
       "      <td>1889</td>\n",
       "      <td>False</td>\n",
       "      <td>6.042252</td>\n",
       "      <td>6.223809</td>\n",
       "      <td>6.194151</td>\n",
       "      <td>6.234995</td>\n",
       "      <td>5.979837</td>\n",
       "      <td>98.7</td>\n",
       "      <td>2445914112</td>\n",
       "    </tr>\n",
       "    <tr>\n",
       "      <th>0</th>\n",
       "      <td>chb06</td>\n",
       "      <td>0</td>\n",
       "      <td>1890</td>\n",
       "      <td>False</td>\n",
       "      <td>5.745051</td>\n",
       "      <td>6.169761</td>\n",
       "      <td>5.197697</td>\n",
       "      <td>6.393366</td>\n",
       "      <td>5.963451</td>\n",
       "      <td>98.5</td>\n",
       "      <td>2447585280</td>\n",
       "    </tr>\n",
       "    <tr>\n",
       "      <th>0</th>\n",
       "      <td>chb06</td>\n",
       "      <td>0</td>\n",
       "      <td>1891</td>\n",
       "      <td>False</td>\n",
       "      <td>5.634661</td>\n",
       "      <td>5.873180</td>\n",
       "      <td>5.185929</td>\n",
       "      <td>6.067866</td>\n",
       "      <td>6.257908</td>\n",
       "      <td>96.7</td>\n",
       "      <td>2448703488</td>\n",
       "    </tr>\n",
       "  </tbody>\n",
       "</table>\n",
       "<p>19070 rows × 11 columns</p>\n",
       "</div>"
      ],
      "text/plain": [
       "     case  test  window  seizure     F3-C3     F4-C4     C3-P3     C4-P4  \\\n",
       "0   chb01     0       0    False  5.974126  5.781400  5.512350  5.415369   \n",
       "0   chb01     0       1    False  5.935654  6.027476  5.688999  5.589532   \n",
       "0   chb01     0       2    False  5.834751  5.881431  5.701357  5.635897   \n",
       "0   chb01     0       3    False  5.888986  5.671197  5.355293  5.566865   \n",
       "0   chb01     0       4    False  6.203580  6.146401  5.713649  5.799418   \n",
       "..    ...   ...     ...      ...       ...       ...       ...       ...   \n",
       "0   chb06     0    1887    False  6.072874  5.987919  5.773504  5.655213   \n",
       "0   chb06     0    1888    False  5.257771  5.911709  5.755586  6.216934   \n",
       "0   chb06     0    1889    False  6.042252  6.223809  6.194151  6.234995   \n",
       "0   chb06     0    1890    False  5.745051  6.169761  5.197697  6.393366   \n",
       "0   chb06     0    1891    False  5.634661  5.873180  5.185929  6.067866   \n",
       "\n",
       "    elapsed time  cpu usage  memory usage  \n",
       "0       5.143914       96.9    1651286016  \n",
       "0       4.289692       96.8    1446494208  \n",
       "0       4.453572       97.4    1447256064  \n",
       "0       4.317407       98.0    1446875136  \n",
       "0       4.254425       97.2    1443860480  \n",
       "..           ...        ...           ...  \n",
       "0       5.903025       97.5    2447396864  \n",
       "0       5.867011       98.1    2447388672  \n",
       "0       5.979837       98.7    2445914112  \n",
       "0       5.963451       98.5    2447585280  \n",
       "0       6.257908       96.7    2448703488  \n",
       "\n",
       "[19070 rows x 11 columns]"
      ]
     },
     "execution_count": 3,
     "metadata": {},
     "output_type": "execute_result"
    }
   ],
   "source": [
    "df"
   ]
  },
  {
   "cell_type": "code",
   "execution_count": 4,
   "metadata": {},
   "outputs": [],
   "source": [
    "predictors = df[['F3-C3', 'F4-C4','C3-P3','C4-P4']]"
   ]
  },
  {
   "cell_type": "code",
   "execution_count": 5,
   "metadata": {},
   "outputs": [],
   "source": [
    "targets = df.seizure"
   ]
  },
  {
   "cell_type": "code",
   "execution_count": 6,
   "metadata": {},
   "outputs": [],
   "source": [
    "#Creación de la muestra de entrenamiento y de test, tanto para las variables de predictores (canales) y la variables objetivo (seizure), siendo un test del 50%\n",
    "pred_train, pred_test, tar_train, tar_test = train_test_split(predictors, targets, test_size=.4)"
   ]
  },
  {
   "cell_type": "code",
   "execution_count": 7,
   "metadata": {},
   "outputs": [],
   "source": [
    "df_train=pd.concat([pred_train, tar_train],axis=1)"
   ]
  },
  {
   "cell_type": "code",
   "execution_count": 8,
   "metadata": {},
   "outputs": [],
   "source": [
    "df_majority_train = df_train[df_train.seizure==False]\n",
    "df_minority_train = df_train[df_train.seizure==True]"
   ]
  },
  {
   "cell_type": "code",
   "execution_count": 9,
   "metadata": {},
   "outputs": [],
   "source": [
    "df_minority_upsampled_train = resample(df_minority_train, \n",
    "                                 replace=True,  \n",
    "                                 n_samples=len(df_majority_train),\n",
    "                                 random_state=123) "
   ]
  },
  {
   "cell_type": "code",
   "execution_count": 10,
   "metadata": {},
   "outputs": [],
   "source": [
    "df_upsampled_train = pd.concat([df_majority_train, df_minority_upsampled_train])"
   ]
  },
  {
   "cell_type": "code",
   "execution_count": 11,
   "metadata": {},
   "outputs": [],
   "source": [
    "classifier=RandomForestClassifier(n_estimators=25) #Indicar el número de arboles en este caso 25"
   ]
  },
  {
   "cell_type": "code",
   "execution_count": 12,
   "metadata": {},
   "outputs": [],
   "source": [
    "classifier=classifier.fit(df_upsampled_train[['F3-C3', 'F4-C4','C3-P3','C4-P4']],df_upsampled_train.seizure) #Construir el modelo con los datos de entrenamiento"
   ]
  },
  {
   "cell_type": "code",
   "execution_count": 13,
   "metadata": {},
   "outputs": [],
   "source": [
    "predictions=classifier.predict(pred_test)"
   ]
  },
  {
   "cell_type": "code",
   "execution_count": 14,
   "metadata": {},
   "outputs": [
    {
     "data": {
      "text/plain": [
       "array([[7466,   41],\n",
       "       [ 101,   20]], dtype=int64)"
      ]
     },
     "execution_count": 14,
     "metadata": {},
     "output_type": "execute_result"
    }
   ],
   "source": [
    "sklearn.metrics.confusion_matrix(tar_test,predictions) #Matriz de confusión de las predicciones para el grupo de test"
   ]
  },
  {
   "cell_type": "code",
   "execution_count": 15,
   "metadata": {},
   "outputs": [
    {
     "name": "stdout",
     "output_type": "stream",
     "text": [
      "              precision    recall  f1-score   support\n",
      "\n",
      "       False       0.99      0.99      0.99      7507\n",
      "        True       0.33      0.17      0.22       121\n",
      "\n",
      "    accuracy                           0.98      7628\n",
      "   macro avg       0.66      0.58      0.61      7628\n",
      "weighted avg       0.98      0.98      0.98      7628\n",
      "\n"
     ]
    }
   ],
   "source": [
    "print(sklearn.metrics.classification_report(tar_test,predictions))"
   ]
  },
  {
   "cell_type": "code",
   "execution_count": 16,
   "metadata": {},
   "outputs": [],
   "source": [
    "model = ExtraTreesClassifier() #obtener la importancia de cada variable"
   ]
  },
  {
   "cell_type": "code",
   "execution_count": 17,
   "metadata": {},
   "outputs": [
    {
     "data": {
      "text/plain": [
       "ExtraTreesClassifier(bootstrap=False, ccp_alpha=0.0, class_weight=None,\n",
       "                     criterion='gini', max_depth=None, max_features='auto',\n",
       "                     max_leaf_nodes=None, max_samples=None,\n",
       "                     min_impurity_decrease=0.0, min_impurity_split=None,\n",
       "                     min_samples_leaf=1, min_samples_split=2,\n",
       "                     min_weight_fraction_leaf=0.0, n_estimators=100,\n",
       "                     n_jobs=None, oob_score=False, random_state=None, verbose=0,\n",
       "                     warm_start=False)"
      ]
     },
     "execution_count": 17,
     "metadata": {},
     "output_type": "execute_result"
    }
   ],
   "source": [
    "model.fit(pred_train,tar_train) #Ajustar el modelo"
   ]
  },
  {
   "cell_type": "code",
   "execution_count": 18,
   "metadata": {},
   "outputs": [
    {
     "name": "stdout",
     "output_type": "stream",
     "text": [
      "[0.2572184  0.24960169 0.26934925 0.22383065]\n"
     ]
    }
   ],
   "source": [
    "print(model.feature_importances_) # Imprimir la importancia de cada variable (Columna de los canales)"
   ]
  },
  {
   "cell_type": "code",
   "execution_count": 19,
   "metadata": {},
   "outputs": [
    {
     "data": {
      "image/png": "[encoded data removed]",
      "text/plain": [
       "<Figure size 432x288 with 1 Axes>"
      ]
     },
     "metadata": {
      "needs_background": "light"
     },
     "output_type": "display_data"
    }
   ],
   "source": [
    "pyplot.bar(range(len(model.feature_importances_)), model.feature_importances_)\n",
    "pyplot.show() #Dibujar las variables con su respectiva importancia"
   ]
  },
  {
   "cell_type": "code",
   "execution_count": 20,
   "metadata": {},
   "outputs": [],
   "source": [
    "trees=range(25)\n",
    "accuracy=np.zeros(25)"
   ]
  },
  {
   "cell_type": "code",
   "execution_count": 21,
   "metadata": {},
   "outputs": [
    {
     "data": {
      "text/plain": [
       "[<matplotlib.lines.Line2D at 0x1efc11d0988>]"
      ]
     },
     "execution_count": 21,
     "metadata": {},
     "output_type": "execute_result"
    },
    {
     "data": {
      "image/png": "[encoded data removed]",
      "text/plain": [
       "<Figure size 432x288 with 1 Axes>"
      ]
     },
     "metadata": {
      "needs_background": "light"
     },
     "output_type": "display_data"
    }
   ],
   "source": [
    "for idx in range(len(trees)):\n",
    "    classifier=RandomForestClassifier(n_estimators=idx + 1)\n",
    "    classifier=classifier.fit(pred_train,tar_train)\n",
    "    predictions=classifier.predict(pred_test)\n",
    "    accuracy[idx]=sklearn.metrics.accuracy_score(tar_test, predictions)\n",
    "plt.cla()\n",
    "plt.plot(trees, accuracy)"
   ]
  },
  {
   "cell_type": "code",
   "execution_count": null,
   "metadata": {},
   "outputs": [],
   "source": []
  }
 ],
 "metadata": {
  "kernelspec": {
   "display_name": "Python 3",
   "language": "python",
   "name": "python3"
  },
  "language_info": {
   "codemirror_mode": {
    "name": "ipython",
    "version": 3
   },
   "file_extension": ".py",
   "mimetype": "text/x-python",
   "name": "python",
   "nbconvert_exporter": "python",
   "pygments_lexer": "ipython3",
   "version": "3.7.7"
  }
 },
 "nbformat": 4,
 "nbformat_minor": 4
}
