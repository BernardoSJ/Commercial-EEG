{
 "cells": [
  {
   "cell_type": "code",
   "execution_count": 1,
   "metadata": {},
   "outputs": [],
   "source": [
    "import os\n",
    "import pandas as pd\n",
    "import numpy as np\n",
    "import matplotlib.pylab as plt\n",
    "from matplotlib import pyplot\n",
    "from sklearn.ensemble import RandomForestClassifier\n",
    "from sklearn.model_selection import train_test_split\n",
    "from sklearn.tree import DecisionTreeClassifier\n",
    "from sklearn.metrics import classification_report\n",
    "import sklearn.metrics\n",
    "from sklearn import datasets\n",
    "from sklearn.ensemble import ExtraTreesClassifier\n",
    "from sklearn.utils import resample"
   ]
  },
  {
   "cell_type": "code",
   "execution_count": 2,
   "metadata": {},
   "outputs": [],
   "source": [
    "df = pd.read_hdf('DSI-7.hdf')"
   ]
  },
  {
   "cell_type": "code",
   "execution_count": 4,
   "metadata": {},
   "outputs": [
    {
     "data": {
      "text/html": [
       "<div>\n",
       "<style scoped>\n",
       "    .dataframe tbody tr th:only-of-type {\n",
       "        vertical-align: middle;\n",
       "    }\n",
       "\n",
       "    .dataframe tbody tr th {\n",
       "        vertical-align: top;\n",
       "    }\n",
       "\n",
       "    .dataframe thead th {\n",
       "        text-align: right;\n",
       "    }\n",
       "</style>\n",
       "<table border=\"1\" class=\"dataframe\">\n",
       "  <thead>\n",
       "    <tr style=\"text-align: right;\">\n",
       "      <th></th>\n",
       "      <th>case</th>\n",
       "      <th>test</th>\n",
       "      <th>window</th>\n",
       "      <th>seizure</th>\n",
       "      <th>F3-C3</th>\n",
       "      <th>F4-C4</th>\n",
       "      <th>C3-P3</th>\n",
       "      <th>C4-P4</th>\n",
       "      <th>elapsed time</th>\n",
       "      <th>cpu usage</th>\n",
       "      <th>memory usage</th>\n",
       "    </tr>\n",
       "  </thead>\n",
       "  <tbody>\n",
       "    <tr>\n",
       "      <th>0</th>\n",
       "      <td>chb01</td>\n",
       "      <td>0</td>\n",
       "      <td>0</td>\n",
       "      <td>False</td>\n",
       "      <td>5.974126</td>\n",
       "      <td>5.781400</td>\n",
       "      <td>5.512350</td>\n",
       "      <td>5.415369</td>\n",
       "      <td>5.143914</td>\n",
       "      <td>96.9</td>\n",
       "      <td>1651286016</td>\n",
       "    </tr>\n",
       "    <tr>\n",
       "      <th>0</th>\n",
       "      <td>chb01</td>\n",
       "      <td>0</td>\n",
       "      <td>1</td>\n",
       "      <td>False</td>\n",
       "      <td>5.935654</td>\n",
       "      <td>6.027476</td>\n",
       "      <td>5.688999</td>\n",
       "      <td>5.589532</td>\n",
       "      <td>4.289692</td>\n",
       "      <td>96.8</td>\n",
       "      <td>1446494208</td>\n",
       "    </tr>\n",
       "    <tr>\n",
       "      <th>0</th>\n",
       "      <td>chb01</td>\n",
       "      <td>0</td>\n",
       "      <td>2</td>\n",
       "      <td>False</td>\n",
       "      <td>5.834751</td>\n",
       "      <td>5.881431</td>\n",
       "      <td>5.701357</td>\n",
       "      <td>5.635897</td>\n",
       "      <td>4.453572</td>\n",
       "      <td>97.4</td>\n",
       "      <td>1447256064</td>\n",
       "    </tr>\n",
       "    <tr>\n",
       "      <th>0</th>\n",
       "      <td>chb01</td>\n",
       "      <td>0</td>\n",
       "      <td>3</td>\n",
       "      <td>False</td>\n",
       "      <td>5.888986</td>\n",
       "      <td>5.671197</td>\n",
       "      <td>5.355293</td>\n",
       "      <td>5.566865</td>\n",
       "      <td>4.317407</td>\n",
       "      <td>98.0</td>\n",
       "      <td>1446875136</td>\n",
       "    </tr>\n",
       "    <tr>\n",
       "      <th>0</th>\n",
       "      <td>chb01</td>\n",
       "      <td>0</td>\n",
       "      <td>4</td>\n",
       "      <td>False</td>\n",
       "      <td>6.203580</td>\n",
       "      <td>6.146401</td>\n",
       "      <td>5.713649</td>\n",
       "      <td>5.799418</td>\n",
       "      <td>4.254425</td>\n",
       "      <td>97.2</td>\n",
       "      <td>1443860480</td>\n",
       "    </tr>\n",
       "    <tr>\n",
       "      <th>...</th>\n",
       "      <td>...</td>\n",
       "      <td>...</td>\n",
       "      <td>...</td>\n",
       "      <td>...</td>\n",
       "      <td>...</td>\n",
       "      <td>...</td>\n",
       "      <td>...</td>\n",
       "      <td>...</td>\n",
       "      <td>...</td>\n",
       "      <td>...</td>\n",
       "      <td>...</td>\n",
       "    </tr>\n",
       "    <tr>\n",
       "      <th>0</th>\n",
       "      <td>chb03</td>\n",
       "      <td>3</td>\n",
       "      <td>294</td>\n",
       "      <td>False</td>\n",
       "      <td>5.206699</td>\n",
       "      <td>5.189650</td>\n",
       "      <td>4.681885</td>\n",
       "      <td>4.723210</td>\n",
       "      <td>5.622435</td>\n",
       "      <td>98.4</td>\n",
       "      <td>2037755904</td>\n",
       "    </tr>\n",
       "    <tr>\n",
       "      <th>0</th>\n",
       "      <td>chb03</td>\n",
       "      <td>3</td>\n",
       "      <td>295</td>\n",
       "      <td>False</td>\n",
       "      <td>5.451971</td>\n",
       "      <td>5.436478</td>\n",
       "      <td>4.809864</td>\n",
       "      <td>4.977318</td>\n",
       "      <td>5.840153</td>\n",
       "      <td>96.3</td>\n",
       "      <td>2037874688</td>\n",
       "    </tr>\n",
       "    <tr>\n",
       "      <th>0</th>\n",
       "      <td>chb03</td>\n",
       "      <td>3</td>\n",
       "      <td>296</td>\n",
       "      <td>False</td>\n",
       "      <td>5.462651</td>\n",
       "      <td>5.423066</td>\n",
       "      <td>4.777700</td>\n",
       "      <td>5.018481</td>\n",
       "      <td>5.881943</td>\n",
       "      <td>97.2</td>\n",
       "      <td>2037870592</td>\n",
       "    </tr>\n",
       "    <tr>\n",
       "      <th>0</th>\n",
       "      <td>chb03</td>\n",
       "      <td>3</td>\n",
       "      <td>297</td>\n",
       "      <td>False</td>\n",
       "      <td>4.750251</td>\n",
       "      <td>4.924381</td>\n",
       "      <td>4.639150</td>\n",
       "      <td>4.696531</td>\n",
       "      <td>6.095426</td>\n",
       "      <td>95.5</td>\n",
       "      <td>2039382016</td>\n",
       "    </tr>\n",
       "    <tr>\n",
       "      <th>0</th>\n",
       "      <td>chb03</td>\n",
       "      <td>3</td>\n",
       "      <td>298</td>\n",
       "      <td>False</td>\n",
       "      <td>5.325500</td>\n",
       "      <td>5.341920</td>\n",
       "      <td>4.766032</td>\n",
       "      <td>4.977111</td>\n",
       "      <td>6.149329</td>\n",
       "      <td>95.4</td>\n",
       "      <td>1870331904</td>\n",
       "    </tr>\n",
       "  </tbody>\n",
       "</table>\n",
       "<p>7668 rows × 11 columns</p>\n",
       "</div>"
      ],
      "text/plain": [
       "     case  test  window  seizure     F3-C3     F4-C4     C3-P3     C4-P4  \\\n",
       "0   chb01     0       0    False  5.974126  5.781400  5.512350  5.415369   \n",
       "0   chb01     0       1    False  5.935654  6.027476  5.688999  5.589532   \n",
       "0   chb01     0       2    False  5.834751  5.881431  5.701357  5.635897   \n",
       "0   chb01     0       3    False  5.888986  5.671197  5.355293  5.566865   \n",
       "0   chb01     0       4    False  6.203580  6.146401  5.713649  5.799418   \n",
       "..    ...   ...     ...      ...       ...       ...       ...       ...   \n",
       "0   chb03     3     294    False  5.206699  5.189650  4.681885  4.723210   \n",
       "0   chb03     3     295    False  5.451971  5.436478  4.809864  4.977318   \n",
       "0   chb03     3     296    False  5.462651  5.423066  4.777700  5.018481   \n",
       "0   chb03     3     297    False  4.750251  4.924381  4.639150  4.696531   \n",
       "0   chb03     3     298    False  5.325500  5.341920  4.766032  4.977111   \n",
       "\n",
       "    elapsed time  cpu usage  memory usage  \n",
       "0       5.143914       96.9    1651286016  \n",
       "0       4.289692       96.8    1446494208  \n",
       "0       4.453572       97.4    1447256064  \n",
       "0       4.317407       98.0    1446875136  \n",
       "0       4.254425       97.2    1443860480  \n",
       "..           ...        ...           ...  \n",
       "0       5.622435       98.4    2037755904  \n",
       "0       5.840153       96.3    2037874688  \n",
       "0       5.881943       97.2    2037870592  \n",
       "0       6.095426       95.5    2039382016  \n",
       "0       6.149329       95.4    1870331904  \n",
       "\n",
       "[7668 rows x 11 columns]"
      ]
     },
     "execution_count": 4,
     "metadata": {},
     "output_type": "execute_result"
    }
   ],
   "source": [
    "df"
   ]
  },
  {
   "cell_type": "code",
   "execution_count": 6,
   "metadata": {},
   "outputs": [],
   "source": [
    "#Separar clases \n",
    "df_majority = df[df.seizure==False]\n",
    "df_minority = df[df.seizure==True]"
   ]
  },
  {
   "cell_type": "code",
   "execution_count": 24,
   "metadata": {},
   "outputs": [],
   "source": [
    "df_minority_upsampled = resample(df_minority, \n",
    "                                 replace=True,  \n",
    "                                 n_samples=len(df_majority),\n",
    "                                 random_state=123) "
   ]
  },
  {
   "cell_type": "code",
   "execution_count": 25,
   "metadata": {},
   "outputs": [],
   "source": [
    "df_upsampled = pd.concat([df_majority, df_minority_upsampled])"
   ]
  },
  {
   "cell_type": "code",
   "execution_count": 26,
   "metadata": {},
   "outputs": [
    {
     "data": {
      "text/plain": [
       "True     7524\n",
       "False    7524\n",
       "Name: seizure, dtype: int64"
      ]
     },
     "execution_count": 26,
     "metadata": {},
     "output_type": "execute_result"
    }
   ],
   "source": [
    "df_upsampled.seizure.value_counts()"
   ]
  },
  {
   "cell_type": "code",
   "execution_count": 27,
   "metadata": {},
   "outputs": [],
   "source": [
    "predictors = df_upsampled[['F3-C3', 'F4-C4','C3-P3','C4-P4']]"
   ]
  },
  {
   "cell_type": "code",
   "execution_count": 28,
   "metadata": {},
   "outputs": [],
   "source": [
    "targets = df_upsampled.seizure"
   ]
  },
  {
   "cell_type": "code",
   "execution_count": 29,
   "metadata": {},
   "outputs": [],
   "source": [
    "#Creación de la muestra de entrenamiento y de test, tanto para las variables de predictores (canales) y la variables objetivo (seizure), siendo un test del 50%\n",
    "pred_train, pred_test, tar_train, tar_test = train_test_split(predictors, targets, test_size=.4)"
   ]
  },
  {
   "cell_type": "code",
   "execution_count": 30,
   "metadata": {},
   "outputs": [],
   "source": [
    "classifier=RandomForestClassifier(n_estimators=25) #Indicar el número de arboles en este caso 25"
   ]
  },
  {
   "cell_type": "code",
   "execution_count": 31,
   "metadata": {},
   "outputs": [],
   "source": [
    "classifier=classifier.fit(pred_train,tar_train) #Construir el modelo con los datos de entrenamiento"
   ]
  },
  {
   "cell_type": "code",
   "execution_count": 32,
   "metadata": {},
   "outputs": [],
   "source": [
    "predictions=classifier.predict(pred_test)"
   ]
  },
  {
   "cell_type": "code",
   "execution_count": 34,
   "metadata": {},
   "outputs": [
    {
     "data": {
      "text/plain": [
       "array([[3040,   25],\n",
       "       [   0, 2955]], dtype=int64)"
      ]
     },
     "execution_count": 34,
     "metadata": {},
     "output_type": "execute_result"
    }
   ],
   "source": [
    "sklearn.metrics.confusion_matrix(tar_test,predictions) #Matriz de confusión de las predicciones para el grupo de test"
   ]
  },
  {
   "cell_type": "code",
   "execution_count": 42,
   "metadata": {},
   "outputs": [
    {
     "name": "stdout",
     "output_type": "stream",
     "text": [
      "              precision    recall  f1-score   support\n",
      "\n",
      "       False       1.00      0.99      1.00      3065\n",
      "        True       0.99      1.00      1.00      2955\n",
      "\n",
      "    accuracy                           1.00      6020\n",
      "   macro avg       1.00      1.00      1.00      6020\n",
      "weighted avg       1.00      1.00      1.00      6020\n",
      "\n"
     ]
    }
   ],
   "source": [
    "print(sklearn.metrics.classification_report(tar_test,predictions))"
   ]
  },
  {
   "cell_type": "code",
   "execution_count": 36,
   "metadata": {},
   "outputs": [],
   "source": [
    "model = ExtraTreesClassifier() #obtener la importancia de cada variable"
   ]
  },
  {
   "cell_type": "code",
   "execution_count": 37,
   "metadata": {},
   "outputs": [
    {
     "data": {
      "text/plain": [
       "ExtraTreesClassifier(bootstrap=False, ccp_alpha=0.0, class_weight=None,\n",
       "                     criterion='gini', max_depth=None, max_features='auto',\n",
       "                     max_leaf_nodes=None, max_samples=None,\n",
       "                     min_impurity_decrease=0.0, min_impurity_split=None,\n",
       "                     min_samples_leaf=1, min_samples_split=2,\n",
       "                     min_weight_fraction_leaf=0.0, n_estimators=100,\n",
       "                     n_jobs=None, oob_score=False, random_state=None, verbose=0,\n",
       "                     warm_start=False)"
      ]
     },
     "execution_count": 37,
     "metadata": {},
     "output_type": "execute_result"
    }
   ],
   "source": [
    "model.fit(pred_train,tar_train) #Ajustar el modelo"
   ]
  },
  {
   "cell_type": "code",
   "execution_count": 38,
   "metadata": {},
   "outputs": [
    {
     "name": "stdout",
     "output_type": "stream",
     "text": [
      "[0.29094975 0.20566841 0.2698412  0.23354063]\n"
     ]
    }
   ],
   "source": [
    "print(model.feature_importances_) # Imprimir la importancia de cada variable (Columna de los canales)"
   ]
  },
  {
   "cell_type": "code",
   "execution_count": 39,
   "metadata": {},
   "outputs": [
    {
     "data": {
      "image/png": "[encoded data removed]",
      "text/plain": [
       "<Figure size 432x288 with 1 Axes>"
      ]
     },
     "metadata": {
      "needs_background": "light"
     },
     "output_type": "display_data"
    }
   ],
   "source": [
    "pyplot.bar(range(len(model.feature_importances_)), model.feature_importances_)\n",
    "pyplot.show() #Dibujar las variables con su respectiva importancia"
   ]
  },
  {
   "cell_type": "code",
   "execution_count": 40,
   "metadata": {},
   "outputs": [],
   "source": [
    "trees=range(25)\n",
    "accuracy=np.zeros(25)"
   ]
  },
  {
   "cell_type": "code",
   "execution_count": 41,
   "metadata": {},
   "outputs": [
    {
     "data": {
      "text/plain": [
       "[<matplotlib.lines.Line2D at 0x1c746581f08>]"
      ]
     },
     "execution_count": 41,
     "metadata": {},
     "output_type": "execute_result"
    },
    {
     "data": {
      "image/png": "[encoded data removed]",
      "text/plain": [
       "<Figure size 432x288 with 1 Axes>"
      ]
     },
     "metadata": {
      "needs_background": "light"
     },
     "output_type": "display_data"
    }
   ],
   "source": [
    "for idx in range(len(trees)):\n",
    "    classifier=RandomForestClassifier(n_estimators=idx + 1)\n",
    "    classifier=classifier.fit(pred_train,tar_train)\n",
    "    predictions=classifier.predict(pred_test)\n",
    "    accuracy[idx]=sklearn.metrics.accuracy_score(tar_test, predictions)\n",
    "plt.cla()\n",
    "plt.plot(trees, accuracy)"
   ]
  },
  {
   "cell_type": "code",
   "execution_count": 19,
   "metadata": {},
   "outputs": [],
   "source": [
    "#La gráfica del renglon anterior funciona para saber si el número de arbiles generados fue suficiente o no"
   ]
  }
 ],
 "metadata": {
  "kernelspec": {
   "display_name": "Python 3",
   "language": "python",
   "name": "python3"
  },
  "language_info": {
   "codemirror_mode": {
    "name": "ipython",
    "version": 3
   },
   "file_extension": ".py",
   "mimetype": "text/x-python",
   "name": "python",
   "nbconvert_exporter": "python",
   "pygments_lexer": "ipython3",
   "version": "3.7.7"
  }
 },
 "nbformat": 4,
 "nbformat_minor": 4
}
