{
 "cells": [
  {
   "cell_type": "code",
   "execution_count": 27,
   "metadata": {},
   "outputs": [],
   "source": [
    "import os\n",
    "import pandas as pd\n",
    "import numpy as np\n",
    "import matplotlib.pylab as plt\n",
    "from matplotlib import pyplot\n",
    "from sklearn.ensemble import RandomForestClassifier\n",
    "from sklearn.model_selection import train_test_split\n",
    "from sklearn.tree import DecisionTreeClassifier\n",
    "from sklearn.metrics import classification_report\n",
    "import sklearn.metrics\n",
    "from sklearn import datasets\n",
    "from sklearn.ensemble import ExtraTreesClassifier"
   ]
  },
  {
   "cell_type": "code",
   "execution_count": 2,
   "metadata": {},
   "outputs": [],
   "source": [
    "df = pd.read_hdf('DSI-7.hdf')"
   ]
  },
  {
   "cell_type": "code",
   "execution_count": 3,
   "metadata": {},
   "outputs": [
    {
     "data": {
      "text/html": [
       "<div>\n",
       "<style scoped>\n",
       "    .dataframe tbody tr th:only-of-type {\n",
       "        vertical-align: middle;\n",
       "    }\n",
       "\n",
       "    .dataframe tbody tr th {\n",
       "        vertical-align: top;\n",
       "    }\n",
       "\n",
       "    .dataframe thead th {\n",
       "        text-align: right;\n",
       "    }\n",
       "</style>\n",
       "<table border=\"1\" class=\"dataframe\">\n",
       "  <thead>\n",
       "    <tr style=\"text-align: right;\">\n",
       "      <th></th>\n",
       "      <th>case</th>\n",
       "      <th>test</th>\n",
       "      <th>window</th>\n",
       "      <th>seizure</th>\n",
       "      <th>F3-C3</th>\n",
       "      <th>F4-C4</th>\n",
       "      <th>C3-P3</th>\n",
       "      <th>C4-P4</th>\n",
       "      <th>elapsed time</th>\n",
       "      <th>cpu usage</th>\n",
       "      <th>memory usage</th>\n",
       "    </tr>\n",
       "  </thead>\n",
       "  <tbody>\n",
       "    <tr>\n",
       "      <th>0</th>\n",
       "      <td>chb01</td>\n",
       "      <td>0</td>\n",
       "      <td>0</td>\n",
       "      <td>False</td>\n",
       "      <td>5.974126</td>\n",
       "      <td>5.781400</td>\n",
       "      <td>5.512350</td>\n",
       "      <td>5.415369</td>\n",
       "      <td>5.143914</td>\n",
       "      <td>96.9</td>\n",
       "      <td>1651286016</td>\n",
       "    </tr>\n",
       "    <tr>\n",
       "      <th>0</th>\n",
       "      <td>chb01</td>\n",
       "      <td>0</td>\n",
       "      <td>1</td>\n",
       "      <td>False</td>\n",
       "      <td>5.935654</td>\n",
       "      <td>6.027476</td>\n",
       "      <td>5.688999</td>\n",
       "      <td>5.589532</td>\n",
       "      <td>4.289692</td>\n",
       "      <td>96.8</td>\n",
       "      <td>1446494208</td>\n",
       "    </tr>\n",
       "    <tr>\n",
       "      <th>0</th>\n",
       "      <td>chb01</td>\n",
       "      <td>0</td>\n",
       "      <td>2</td>\n",
       "      <td>False</td>\n",
       "      <td>5.834751</td>\n",
       "      <td>5.881431</td>\n",
       "      <td>5.701357</td>\n",
       "      <td>5.635897</td>\n",
       "      <td>4.453572</td>\n",
       "      <td>97.4</td>\n",
       "      <td>1447256064</td>\n",
       "    </tr>\n",
       "    <tr>\n",
       "      <th>0</th>\n",
       "      <td>chb01</td>\n",
       "      <td>0</td>\n",
       "      <td>3</td>\n",
       "      <td>False</td>\n",
       "      <td>5.888986</td>\n",
       "      <td>5.671197</td>\n",
       "      <td>5.355293</td>\n",
       "      <td>5.566865</td>\n",
       "      <td>4.317407</td>\n",
       "      <td>98.0</td>\n",
       "      <td>1446875136</td>\n",
       "    </tr>\n",
       "    <tr>\n",
       "      <th>0</th>\n",
       "      <td>chb01</td>\n",
       "      <td>0</td>\n",
       "      <td>4</td>\n",
       "      <td>False</td>\n",
       "      <td>6.203580</td>\n",
       "      <td>6.146401</td>\n",
       "      <td>5.713649</td>\n",
       "      <td>5.799418</td>\n",
       "      <td>4.254425</td>\n",
       "      <td>97.2</td>\n",
       "      <td>1443860480</td>\n",
       "    </tr>\n",
       "    <tr>\n",
       "      <th>...</th>\n",
       "      <td>...</td>\n",
       "      <td>...</td>\n",
       "      <td>...</td>\n",
       "      <td>...</td>\n",
       "      <td>...</td>\n",
       "      <td>...</td>\n",
       "      <td>...</td>\n",
       "      <td>...</td>\n",
       "      <td>...</td>\n",
       "      <td>...</td>\n",
       "      <td>...</td>\n",
       "    </tr>\n",
       "    <tr>\n",
       "      <th>0</th>\n",
       "      <td>chb03</td>\n",
       "      <td>1</td>\n",
       "      <td>406</td>\n",
       "      <td>False</td>\n",
       "      <td>4.920996</td>\n",
       "      <td>5.170088</td>\n",
       "      <td>4.744472</td>\n",
       "      <td>4.981009</td>\n",
       "      <td>5.883118</td>\n",
       "      <td>97.9</td>\n",
       "      <td>1691230208</td>\n",
       "    </tr>\n",
       "    <tr>\n",
       "      <th>0</th>\n",
       "      <td>chb03</td>\n",
       "      <td>1</td>\n",
       "      <td>407</td>\n",
       "      <td>False</td>\n",
       "      <td>5.588694</td>\n",
       "      <td>5.765972</td>\n",
       "      <td>5.256462</td>\n",
       "      <td>5.417712</td>\n",
       "      <td>5.848237</td>\n",
       "      <td>97.9</td>\n",
       "      <td>1695297536</td>\n",
       "    </tr>\n",
       "    <tr>\n",
       "      <th>0</th>\n",
       "      <td>chb03</td>\n",
       "      <td>1</td>\n",
       "      <td>408</td>\n",
       "      <td>False</td>\n",
       "      <td>5.673596</td>\n",
       "      <td>5.827443</td>\n",
       "      <td>5.351489</td>\n",
       "      <td>5.479107</td>\n",
       "      <td>5.806324</td>\n",
       "      <td>97.7</td>\n",
       "      <td>1698447360</td>\n",
       "    </tr>\n",
       "    <tr>\n",
       "      <th>0</th>\n",
       "      <td>chb03</td>\n",
       "      <td>1</td>\n",
       "      <td>409</td>\n",
       "      <td>False</td>\n",
       "      <td>5.380997</td>\n",
       "      <td>5.556920</td>\n",
       "      <td>4.895023</td>\n",
       "      <td>5.154242</td>\n",
       "      <td>6.042478</td>\n",
       "      <td>98.3</td>\n",
       "      <td>1698291712</td>\n",
       "    </tr>\n",
       "    <tr>\n",
       "      <th>0</th>\n",
       "      <td>chb03</td>\n",
       "      <td>1</td>\n",
       "      <td>410</td>\n",
       "      <td>False</td>\n",
       "      <td>5.223272</td>\n",
       "      <td>5.165564</td>\n",
       "      <td>4.699526</td>\n",
       "      <td>4.818806</td>\n",
       "      <td>6.281876</td>\n",
       "      <td>97.3</td>\n",
       "      <td>1647939584</td>\n",
       "    </tr>\n",
       "  </tbody>\n",
       "</table>\n",
       "<p>6344 rows × 11 columns</p>\n",
       "</div>"
      ],
      "text/plain": [
       "     case  test  window  seizure     F3-C3     F4-C4     C3-P3     C4-P4  \\\n",
       "0   chb01     0       0    False  5.974126  5.781400  5.512350  5.415369   \n",
       "0   chb01     0       1    False  5.935654  6.027476  5.688999  5.589532   \n",
       "0   chb01     0       2    False  5.834751  5.881431  5.701357  5.635897   \n",
       "0   chb01     0       3    False  5.888986  5.671197  5.355293  5.566865   \n",
       "0   chb01     0       4    False  6.203580  6.146401  5.713649  5.799418   \n",
       "..    ...   ...     ...      ...       ...       ...       ...       ...   \n",
       "0   chb03     1     406    False  4.920996  5.170088  4.744472  4.981009   \n",
       "0   chb03     1     407    False  5.588694  5.765972  5.256462  5.417712   \n",
       "0   chb03     1     408    False  5.673596  5.827443  5.351489  5.479107   \n",
       "0   chb03     1     409    False  5.380997  5.556920  4.895023  5.154242   \n",
       "0   chb03     1     410    False  5.223272  5.165564  4.699526  4.818806   \n",
       "\n",
       "    elapsed time  cpu usage  memory usage  \n",
       "0       5.143914       96.9    1651286016  \n",
       "0       4.289692       96.8    1446494208  \n",
       "0       4.453572       97.4    1447256064  \n",
       "0       4.317407       98.0    1446875136  \n",
       "0       4.254425       97.2    1443860480  \n",
       "..           ...        ...           ...  \n",
       "0       5.883118       97.9    1691230208  \n",
       "0       5.848237       97.9    1695297536  \n",
       "0       5.806324       97.7    1698447360  \n",
       "0       6.042478       98.3    1698291712  \n",
       "0       6.281876       97.3    1647939584  \n",
       "\n",
       "[6344 rows x 11 columns]"
      ]
     },
     "execution_count": 3,
     "metadata": {},
     "output_type": "execute_result"
    }
   ],
   "source": [
    "df"
   ]
  },
  {
   "cell_type": "code",
   "execution_count": 11,
   "metadata": {},
   "outputs": [],
   "source": [
    "predictors = df[['F3-C3', 'F4-C4','C3-P3','C4-P4']]"
   ]
  },
  {
   "cell_type": "code",
   "execution_count": 14,
   "metadata": {},
   "outputs": [],
   "source": [
    "targets = df.seizure"
   ]
  },
  {
   "cell_type": "code",
   "execution_count": 31,
   "metadata": {},
   "outputs": [],
   "source": [
    "#Creación de la muestra de entrenamiento y de test, tanto para las variables de predictores (canales) y la variables objetivo (seizure), siendo un test del 50%\n",
    "pred_train, pred_test, tar_train, tar_test = train_test_split(predictors, targets, test_size=.5)"
   ]
  },
  {
   "cell_type": "code",
   "execution_count": 32,
   "metadata": {},
   "outputs": [],
   "source": [
    "classifier=RandomForestClassifier(n_estimators=25) #Indicar el número de arboles en este caso 25"
   ]
  },
  {
   "cell_type": "code",
   "execution_count": 33,
   "metadata": {},
   "outputs": [],
   "source": [
    "classifier=classifier.fit(pred_train,tar_train) #Construir el modelo con los datos de entrenamiento"
   ]
  },
  {
   "cell_type": "code",
   "execution_count": 34,
   "metadata": {},
   "outputs": [],
   "source": [
    "predictions=classifier.predict(pred_test)"
   ]
  },
  {
   "cell_type": "code",
   "execution_count": 35,
   "metadata": {},
   "outputs": [
    {
     "data": {
      "text/plain": [
       "array([[3104,    6],\n",
       "       [  39,   23]], dtype=int64)"
      ]
     },
     "execution_count": 35,
     "metadata": {},
     "output_type": "execute_result"
    }
   ],
   "source": [
    "sklearn.metrics.confusion_matrix(tar_test,predictions) #Matriz de confusión de las predicciones para el grupo de test"
   ]
  },
  {
   "cell_type": "code",
   "execution_count": 36,
   "metadata": {},
   "outputs": [
    {
     "data": {
      "text/plain": [
       "0.9858133669609079"
      ]
     },
     "execution_count": 36,
     "metadata": {},
     "output_type": "execute_result"
    }
   ],
   "source": [
    "sklearn.metrics.accuracy_score(tar_test, predictions) #Obtener el indice de Accurancy que resume la matriz de confusión y la cantidad de aciertos"
   ]
  },
  {
   "cell_type": "code",
   "execution_count": 37,
   "metadata": {},
   "outputs": [],
   "source": [
    "model = ExtraTreesClassifier() #obtener la importancia de cada variable"
   ]
  },
  {
   "cell_type": "code",
   "execution_count": 38,
   "metadata": {},
   "outputs": [
    {
     "data": {
      "text/plain": [
       "ExtraTreesClassifier(bootstrap=False, ccp_alpha=0.0, class_weight=None,\n",
       "                     criterion='gini', max_depth=None, max_features='auto',\n",
       "                     max_leaf_nodes=None, max_samples=None,\n",
       "                     min_impurity_decrease=0.0, min_impurity_split=None,\n",
       "                     min_samples_leaf=1, min_samples_split=2,\n",
       "                     min_weight_fraction_leaf=0.0, n_estimators=100,\n",
       "                     n_jobs=None, oob_score=False, random_state=None, verbose=0,\n",
       "                     warm_start=False)"
      ]
     },
     "execution_count": 38,
     "metadata": {},
     "output_type": "execute_result"
    }
   ],
   "source": [
    "model.fit(pred_train,tar_train) #Ajustar el modelo"
   ]
  },
  {
   "cell_type": "code",
   "execution_count": 39,
   "metadata": {},
   "outputs": [
    {
     "name": "stdout",
     "output_type": "stream",
     "text": [
      "[0.27848677 0.25648033 0.20719785 0.25783504]\n"
     ]
    }
   ],
   "source": [
    "print(model.feature_importances_) # Imprimir la importancia de cada variable (Columna de los canales)"
   ]
  },
  {
   "cell_type": "code",
   "execution_count": 40,
   "metadata": {},
   "outputs": [
    {
     "data": {
      "image/png": "[encoded data removed]",
      "text/plain": [
       "<Figure size 432x288 with 1 Axes>"
      ]
     },
     "metadata": {
      "needs_background": "light"
     },
     "output_type": "display_data"
    }
   ],
   "source": [
    "pyplot.bar(range(len(model.feature_importances_)), model.feature_importances_)\n",
    "pyplot.show() #Dibujar las variables con su respectiva importancia"
   ]
  },
  {
   "cell_type": "code",
   "execution_count": 41,
   "metadata": {},
   "outputs": [],
   "source": [
    "trees=range(25)\n",
    "accuracy=np.zeros(25)"
   ]
  },
  {
   "cell_type": "code",
   "execution_count": 42,
   "metadata": {},
   "outputs": [
    {
     "data": {
      "text/plain": [
       "[<matplotlib.lines.Line2D at 0x29d6aa3e2c8>]"
      ]
     },
     "execution_count": 42,
     "metadata": {},
     "output_type": "execute_result"
    },
    {
     "data": {
      "image/png": "[encoded data removed]",
      "text/plain": [
       "<Figure size 432x288 with 1 Axes>"
      ]
     },
     "metadata": {
      "needs_background": "light"
     },
     "output_type": "display_data"
    }
   ],
   "source": [
    "for idx in range(len(trees)):\n",
    "    classifier=RandomForestClassifier(n_estimators=idx + 1)\n",
    "    classifier=classifier.fit(pred_train,tar_train)\n",
    "    predictions=classifier.predict(pred_test)\n",
    "    accuracy[idx]=sklearn.metrics.accuracy_score(tar_test, predictions)\n",
    "plt.cla()\n",
    "plt.plot(trees, accuracy)"
   ]
  },
  {
   "cell_type": "code",
   "execution_count": null,
   "metadata": {},
   "outputs": [],
   "source": [
    "#La gráfica del renglon anterior funciona para saber si el número de arbiles generados fue suficiente o no"
   ]
  }
 ],
 "metadata": {
  "kernelspec": {
   "display_name": "Python 3",
   "language": "python",
   "name": "python3"
  },
  "language_info": {
   "codemirror_mode": {
    "name": "ipython",
    "version": 3
   },
   "file_extension": ".py",
   "mimetype": "text/x-python",
   "name": "python",
   "nbconvert_exporter": "python",
   "pygments_lexer": "ipython3",
   "version": "3.7.7"
  }
 },
 "nbformat": 4,
 "nbformat_minor": 4
}
