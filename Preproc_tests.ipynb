{
 "cells": [
  {
   "cell_type": "code",
   "execution_count": 24,
   "metadata": {},
   "outputs": [],
   "source": [
    "import mne\n",
    "import glob\n",
    "import os\n",
    "import pandas as pd\n",
    "import numpy as np\n",
    "from pprint import pprint\n",
    "import re"
   ]
  },
  {
   "cell_type": "code",
   "execution_count": 3,
   "metadata": {},
   "outputs": [],
   "source": [
    "# Constantes: Dataset\n",
    "patient = '01'\n",
    "sample_rate = 256\n",
    "\n",
    "# Otras constantes\n",
    "window_seconds = 30"
   ]
  },
  {
   "cell_type": "code",
   "execution_count": 4,
   "metadata": {},
   "outputs": [],
   "source": [
    "info = f'./data/chb{patient}/chb{patient}-summary.txt'\n",
    "eegs = glob.glob(f'./chb{patient}/*.edf')\n",
    "eegs.sort()"
   ]
  },
  {
   "cell_type": "code",
   "execution_count": 5,
   "metadata": {},
   "outputs": [],
   "source": [
    "with open(info, 'r') as f:\n",
    "    summary = f.read()\n",
    "\n",
    "summary_parts = summary.split('\\n\\n')[:-1]\n",
    "info_eegs_raw = filter(lambda part: part.startswith('File'), summary_parts)\n",
    "\n",
    "info_eegs = list()\n",
    "\n",
    "for file_info in info_eegs_raw:\n",
    "    info_eeg = dict()\n",
    "    for row in file_info.split('\\n'):\n",
    "        key, value = row.split(': ')\n",
    "        value.strip()\n",
    "        info_eeg[key] = value\n",
    "    info_eegs.append(info_eeg)"
   ]
  },
  {
   "cell_type": "code",
   "execution_count": 6,
   "metadata": {},
   "outputs": [
    {
     "data": {
      "text/plain": [
       "{'File Name': 'chb01_04.edf',\n",
       " 'File Start Time': '14:43:12',\n",
       " 'File End Time': '15:43:12',\n",
       " 'Number of Seizures in File': '1',\n",
       " 'Seizure Start Time': '1467 seconds',\n",
       " 'Seizure End Time': '1494 seconds'}"
      ]
     },
     "execution_count": 6,
     "metadata": {},
     "output_type": "execute_result"
    }
   ],
   "source": [
    "info_eegs[3]"
   ]
  },
  {
   "cell_type": "code",
   "execution_count": 7,
   "metadata": {},
   "outputs": [
    {
     "name": "stdout",
     "output_type": "stream",
     "text": [
      "Extracting EDF parameters from /home/heladioac/Documentos/Proyectos/Commercial-EEG/data/chb01/chb01_04.edf...\n",
      "EDF file detected\n",
      "Setting channel info structure...\n",
      "Creating raw.info structure...\n"
     ]
    },
    {
     "name": "stderr",
     "output_type": "stream",
     "text": [
      "<ipython-input-7-0e50aab0cc88>:6: RuntimeWarning: Channel names are not unique, found duplicates for: {'T8-P8'}. Applying running numbers for duplicates.\n",
      "  eeg = mne.io.read_raw_edf(eeg_file)\n"
     ]
    },
    {
     "name": "stdout",
     "output_type": "stream",
     "text": [
      "(7, 921600)\n"
     ]
    }
   ],
   "source": [
    "channels = ['F7-T7', 'T7-P7', 'P7-T7', 'P7-O1', 'P8-O2', 'T8-P8-1', 'F8-T8']\n",
    "\n",
    "i = 3\n",
    "info = info_eegs[i]\n",
    "eeg_file = f\"./data/chb{patient}/{info['File Name']}\"\n",
    "eeg = mne.io.read_raw_edf(eeg_file)\n",
    "\n",
    "raw_eeg = eeg.get_data(picks=channels)\n",
    "print(raw_eeg.shape)"
   ]
  },
  {
   "cell_type": "code",
   "execution_count": 8,
   "metadata": {},
   "outputs": [
    {
     "name": "stdout",
     "output_type": "stream",
     "text": [
      "1467 1494\n"
     ]
    }
   ],
   "source": [
    "if int(info['Number of Seizures in File']) > 0:\n",
    "    start = info['Seizure Start Time']\n",
    "    start = int(start.split(' ')[0])\n",
    "    end = info['Seizure End Time']\n",
    "    end = int(end.split(' ')[0])\n",
    "    \n",
    "print(start, end)"
   ]
  },
  {
   "cell_type": "code",
   "execution_count": 9,
   "metadata": {},
   "outputs": [],
   "source": [
    "frames = window_seconds * sample_rate\n",
    "overlay = int(frames/2)\n",
    "length = raw_eeg.shape[1]"
   ]
  },
  {
   "cell_type": "code",
   "execution_count": 10,
   "metadata": {},
   "outputs": [],
   "source": [
    "dfs = []\n",
    "\n",
    "for i in range(length//overlay - 1):\n",
    "    start = i * overlay\n",
    "    end = start + frames\n",
    "    data = raw_eeg[:, start:end].T\n",
    "    frame = np.arange(start, end).reshape(-1, 1)\n",
    "    window = np.full((end - start, 1), i)\n",
    "    columns = channels.copy()\n",
    "    columns.append('frame')\n",
    "    columns.append('window')\n",
    "\n",
    "    df_i = pd.DataFrame(\n",
    "        data=np.hstack((data, frame, window)),\n",
    "        columns=columns)\n",
    "    \n",
    "    dfs.append(df_i)\n",
    "    \n",
    "df = pd.concat(dfs)"
   ]
  },
  {
   "cell_type": "code",
   "execution_count": 11,
   "metadata": {},
   "outputs": [],
   "source": [
    "df['seizure'] = 0\n",
    "\n",
    "n_seizures = int(info['Number of Seizures in File'])\n",
    "if n_seizures > 0:\n",
    "    seizures_keys = filter(lambda k: k.startswith('Seizure'), info)\n",
    "    seizures = [[]*n_seizures]\n",
    "    for i, key in enumerate(seizures_keys):\n",
    "        value_seconds = int(info[key].split(' ')[0])\n",
    "        value_frames = value_seconds * sample_rate\n",
    "        seizures[i//2].append(value_frames)\n",
    "    \n",
    "    for s_start, s_end in seizures:\n",
    "        df.loc[(df['frame'] >= s_start) & (df['frame'] <= s_end), 'seizure'] = 1\n"
   ]
  },
  {
   "cell_type": "code",
   "execution_count": 12,
   "metadata": {},
   "outputs": [
    {
     "data": {
      "text/html": [
       "<div>\n",
       "<style scoped>\n",
       "    .dataframe tbody tr th:only-of-type {\n",
       "        vertical-align: middle;\n",
       "    }\n",
       "\n",
       "    .dataframe tbody tr th {\n",
       "        vertical-align: top;\n",
       "    }\n",
       "\n",
       "    .dataframe thead th {\n",
       "        text-align: right;\n",
       "    }\n",
       "</style>\n",
       "<table border=\"1\" class=\"dataframe\">\n",
       "  <thead>\n",
       "    <tr style=\"text-align: right;\">\n",
       "      <th></th>\n",
       "      <th>F7-T7</th>\n",
       "      <th>T7-P7</th>\n",
       "      <th>P7-T7</th>\n",
       "      <th>P7-O1</th>\n",
       "      <th>P8-O2</th>\n",
       "      <th>T8-P8-1</th>\n",
       "      <th>F8-T8</th>\n",
       "      <th>frame</th>\n",
       "      <th>window</th>\n",
       "      <th>seizure</th>\n",
       "    </tr>\n",
       "  </thead>\n",
       "  <tbody>\n",
       "    <tr>\n",
       "      <th>count</th>\n",
       "      <td>1.382600e+04</td>\n",
       "      <td>1.382600e+04</td>\n",
       "      <td>1.382600e+04</td>\n",
       "      <td>1.382600e+04</td>\n",
       "      <td>13826.000000</td>\n",
       "      <td>1.382600e+04</td>\n",
       "      <td>13826.000000</td>\n",
       "      <td>13826.000000</td>\n",
       "      <td>13826.000000</td>\n",
       "      <td>13826.0</td>\n",
       "    </tr>\n",
       "    <tr>\n",
       "      <th>mean</th>\n",
       "      <td>3.613019e-07</td>\n",
       "      <td>2.481496e-07</td>\n",
       "      <td>1.425708e-07</td>\n",
       "      <td>3.596628e-07</td>\n",
       "      <td>0.000001</td>\n",
       "      <td>2.159136e-06</td>\n",
       "      <td>-0.000001</td>\n",
       "      <td>379008.000000</td>\n",
       "      <td>97.722335</td>\n",
       "      <td>1.0</td>\n",
       "    </tr>\n",
       "    <tr>\n",
       "      <th>std</th>\n",
       "      <td>7.571068e-05</td>\n",
       "      <td>7.020268e-05</td>\n",
       "      <td>7.020268e-05</td>\n",
       "      <td>4.829287e-05</td>\n",
       "      <td>0.000131</td>\n",
       "      <td>1.270557e-04</td>\n",
       "      <td>0.000169</td>\n",
       "      <td>1995.683357</td>\n",
       "      <td>0.803205</td>\n",
       "      <td>0.0</td>\n",
       "    </tr>\n",
       "    <tr>\n",
       "      <th>min</th>\n",
       "      <td>-2.936264e-04</td>\n",
       "      <td>-2.834676e-04</td>\n",
       "      <td>-3.166789e-04</td>\n",
       "      <td>-1.592186e-04</td>\n",
       "      <td>-0.000389</td>\n",
       "      <td>-5.010989e-04</td>\n",
       "      <td>-0.000671</td>\n",
       "      <td>375552.000000</td>\n",
       "      <td>96.000000</td>\n",
       "      <td>1.0</td>\n",
       "    </tr>\n",
       "    <tr>\n",
       "      <th>25%</th>\n",
       "      <td>-4.630037e-05</td>\n",
       "      <td>-4.356532e-05</td>\n",
       "      <td>-4.004884e-05</td>\n",
       "      <td>-3.028083e-05</td>\n",
       "      <td>-0.000076</td>\n",
       "      <td>-8.224664e-05</td>\n",
       "      <td>-0.000092</td>\n",
       "      <td>377280.000000</td>\n",
       "      <td>97.000000</td>\n",
       "      <td>1.0</td>\n",
       "    </tr>\n",
       "    <tr>\n",
       "      <th>50%</th>\n",
       "      <td>-1.953602e-07</td>\n",
       "      <td>-1.367521e-06</td>\n",
       "      <td>1.758242e-06</td>\n",
       "      <td>5.860806e-07</td>\n",
       "      <td>-0.000008</td>\n",
       "      <td>-5.860806e-07</td>\n",
       "      <td>0.000002</td>\n",
       "      <td>379008.000000</td>\n",
       "      <td>98.000000</td>\n",
       "      <td>1.0</td>\n",
       "    </tr>\n",
       "    <tr>\n",
       "      <th>75%</th>\n",
       "      <td>4.708181e-05</td>\n",
       "      <td>4.043956e-05</td>\n",
       "      <td>4.395604e-05</td>\n",
       "      <td>3.184371e-05</td>\n",
       "      <td>0.000063</td>\n",
       "      <td>8.107448e-05</td>\n",
       "      <td>0.000092</td>\n",
       "      <td>380736.000000</td>\n",
       "      <td>98.000000</td>\n",
       "      <td>1.0</td>\n",
       "    </tr>\n",
       "    <tr>\n",
       "      <th>max</th>\n",
       "      <td>2.940171e-04</td>\n",
       "      <td>3.170696e-04</td>\n",
       "      <td>2.838584e-04</td>\n",
       "      <td>1.928205e-04</td>\n",
       "      <td>0.000504</td>\n",
       "      <td>5.968254e-04</td>\n",
       "      <td>0.000561</td>\n",
       "      <td>382464.000000</td>\n",
       "      <td>99.000000</td>\n",
       "      <td>1.0</td>\n",
       "    </tr>\n",
       "  </tbody>\n",
       "</table>\n",
       "</div>"
      ],
      "text/plain": [
       "              F7-T7         T7-P7         P7-T7         P7-O1         P8-O2  \\\n",
       "count  1.382600e+04  1.382600e+04  1.382600e+04  1.382600e+04  13826.000000   \n",
       "mean   3.613019e-07  2.481496e-07  1.425708e-07  3.596628e-07      0.000001   \n",
       "std    7.571068e-05  7.020268e-05  7.020268e-05  4.829287e-05      0.000131   \n",
       "min   -2.936264e-04 -2.834676e-04 -3.166789e-04 -1.592186e-04     -0.000389   \n",
       "25%   -4.630037e-05 -4.356532e-05 -4.004884e-05 -3.028083e-05     -0.000076   \n",
       "50%   -1.953602e-07 -1.367521e-06  1.758242e-06  5.860806e-07     -0.000008   \n",
       "75%    4.708181e-05  4.043956e-05  4.395604e-05  3.184371e-05      0.000063   \n",
       "max    2.940171e-04  3.170696e-04  2.838584e-04  1.928205e-04      0.000504   \n",
       "\n",
       "            T8-P8-1         F8-T8          frame        window  seizure  \n",
       "count  1.382600e+04  13826.000000   13826.000000  13826.000000  13826.0  \n",
       "mean   2.159136e-06     -0.000001  379008.000000     97.722335      1.0  \n",
       "std    1.270557e-04      0.000169    1995.683357      0.803205      0.0  \n",
       "min   -5.010989e-04     -0.000671  375552.000000     96.000000      1.0  \n",
       "25%   -8.224664e-05     -0.000092  377280.000000     97.000000      1.0  \n",
       "50%   -5.860806e-07      0.000002  379008.000000     98.000000      1.0  \n",
       "75%    8.107448e-05      0.000092  380736.000000     98.000000      1.0  \n",
       "max    5.968254e-04      0.000561  382464.000000     99.000000      1.0  "
      ]
     },
     "execution_count": 12,
     "metadata": {},
     "output_type": "execute_result"
    }
   ],
   "source": [
    "df.loc[df['seizure'] == 1].describe()"
   ]
  },
  {
   "cell_type": "code",
   "execution_count": 13,
   "metadata": {},
   "outputs": [
    {
     "data": {
      "text/plain": [
       "Index      14684160\n",
       "F7-T7      14684160\n",
       "T7-P7      14684160\n",
       "P7-T7      14684160\n",
       "P7-O1      14684160\n",
       "P8-O2      14684160\n",
       "T8-P8-1    14684160\n",
       "F8-T8      14684160\n",
       "frame      14684160\n",
       "window     14684160\n",
       "seizure    14684160\n",
       "dtype: int64"
      ]
     },
     "execution_count": 13,
     "metadata": {},
     "output_type": "execute_result"
    }
   ],
   "source": [
    "df.memory_usage()"
   ]
  },
  {
   "cell_type": "code",
   "execution_count": 14,
   "metadata": {},
   "outputs": [],
   "source": [
    "columns = channels.copy()\n",
    "columns\n",
    "types = dict()\n",
    "for col in columns:\n",
    "    types[col] = 'Float16'"
   ]
  },
  {
   "cell_type": "code",
   "execution_count": 15,
   "metadata": {},
   "outputs": [
    {
     "name": "stdout",
     "output_type": "stream",
     "text": [
      "{'F7-T7': 'Float16', 'T7-P7': 'Float16', 'P7-T7': 'Float16', 'P7-O1': 'Float16', 'P8-O2': 'Float16', 'T8-P8-1': 'Float16', 'F8-T8': 'Float16', 'seizure': <class 'bool'>, 'window': 'Int16', 'frame': 'Int32'}\n"
     ]
    }
   ],
   "source": [
    "types.update({'seizure': bool, 'window': 'Int16', 'frame': 'Int32'})\n",
    "\n",
    "print(types)"
   ]
  },
  {
   "cell_type": "code",
   "execution_count": 16,
   "metadata": {},
   "outputs": [
    {
     "data": {
      "text/plain": [
       "Index      14684160\n",
       "F7-T7       3671040\n",
       "T7-P7       3671040\n",
       "P7-T7       3671040\n",
       "P7-O1       3671040\n",
       "P8-O2       3671040\n",
       "T8-P8-1     3671040\n",
       "F8-T8       3671040\n",
       "frame       9177600\n",
       "window      5506560\n",
       "seizure     1835520\n",
       "dtype: int64"
      ]
     },
     "execution_count": 16,
     "metadata": {},
     "output_type": "execute_result"
    }
   ],
   "source": [
    "df = df.astype(types)\n",
    "df.memory_usage()"
   ]
  },
  {
   "cell_type": "code",
   "execution_count": 128,
   "metadata": {},
   "outputs": [
    {
     "name": "stdout",
     "output_type": "stream",
     "text": [
      "['\\t1- DSI-7\\n'\n",
      " '\\t\\tElectrodos: F3, F4, C3, C4, Pz, P3 y P4.\\n'\n",
      " '\\t\\tPares:\\n'\n",
      " '\\t\\t\\tF3-C3\\n'\n",
      " '\\t\\t\\tF4-C4\\n'\n",
      " '\\t\\t\\tC3-P3\\n'\n",
      " '\\t\\t\\tC4-P4\\n'\n",
      " '\\t\\tSampling rate:\\n'\n",
      " '\\t\\t\\t300 - 600 Hz',\n",
      " '\\t2- DSI-4\\n'\n",
      " '\\t\\tElectrodos: F7, F8, Fp1 y Fp2. \\n'\n",
      " '\\t\\tPares:\\n'\n",
      " '\\t\\t\\tFp1-F7\\n'\n",
      " '\\t\\t\\tFp2-F8\\n'\n",
      " '\\t\\tSampling rate:\\n'\n",
      " '\\t\\t\\t300 - 600 Hz',\n",
      " '\\t3- EMOTIV EPOC+\\n'\n",
      " '\\t\\tElectrodos: AF3, F7, F3, FC5, T7, P7, O1, O2, P8, T8, FC6, F4, F8 y AF4\\n'\n",
      " '\\t\\tPares:\\n'\n",
      " '\\t\\t\\tF7-T7\\n'\n",
      " '\\t\\t\\tT7-P7\\n'\n",
      " '\\t\\t\\tP7-T7\\n'\n",
      " '\\t\\t\\tP7-O1\\n'\n",
      " '\\t\\t\\tP8-O2\\n'\n",
      " '\\t\\t\\tT8-P8-1\\n'\n",
      " '\\t\\t\\tF8-T8\\n'\n",
      " '\\t\\tSampling rate:\\n'\n",
      " '\\t\\t\\t2048 internal downsampled to 128 SPS or 256 SPS (samples per second)\\n'\n",
      " '\\t\\tSampling method: \\n'\n",
      " '\\t\\t\\tSequential sampling, single ADC?',\n",
      " '\\t4- EMOTIV INSIGHT\\n'\n",
      " '\\t\\tElectrodos: AF3, AF4, T7, T8 y Pz. \\n'\n",
      " '\\t\\tPares:\\n'\n",
      " '\\t\\tSampling rate:\\n'\n",
      " '\\t\\t\\t128 samples per second per channel',\n",
      " '\\t5- Bitbrain Air\\n'\n",
      " '\\t\\tElectrodos: Fp1, Fp2, AF7, AF8, PO7, PO8, O1, O2.\\n'\n",
      " '\\t\\tPares:\\n'\n",
      " '\\t\\t\\tFp1-AF7\\n'\n",
      " '\\t\\t\\tFp2-AF8\\n'\n",
      " '\\t\\tSampling rate:\\n'\n",
      " '\\t\\t\\t256 SPS (samples per second) at 24 bits\\n']\n"
     ]
    }
   ],
   "source": [
    "with open('Electroencefalografos.txt', 'r') as f:\n",
    "    eeg_data_txt = f.read()\n",
    "    \n",
    "eeg_data = eeg_data_txt.split('\\n\\n')[1:]\n",
    "pprint(eeg_data)"
   ]
  },
  {
   "cell_type": "code",
   "execution_count": 129,
   "metadata": {},
   "outputs": [
    {
     "name": "stdout",
     "output_type": "stream",
     "text": [
      "[{'channels': ['F3-C3', 'F4-C4', 'C3-P3', 'C4-P4'], 'name': 'DSI-7'},\n",
      " {'channels': ['Fp1-F7', 'Fp2-F8'], 'name': 'DSI-4'},\n",
      " {'channels': ['F7-T7', 'T7-P7', 'P7-T7', 'P7-O1', 'P8-O2', 'T8-P8-1', 'F8-T8'],\n",
      "  'name': 'EMOTIV'},\n",
      " {'channels': [], 'name': 'EMOTIV'},\n",
      " {'channels': ['Fp1-AF7', 'Fp2-AF8'], 'name': 'Bitbrain'}]\n"
     ]
    }
   ],
   "source": [
    "prog_name = re.compile('^\\d- (\\S+)')\n",
    "\n",
    "devices_info = list()\n",
    "\n",
    "for device_info_txt in eeg_data:\n",
    "    rows = device_info_txt.split('\\n')\n",
    "    rows = list(map(lambda x: x.strip(), rows))\n",
    "\n",
    "    match = prog_name.search(rows[0])\n",
    "    name = match.group(1)\n",
    "    \n",
    "    pairs_start = rows.index('Pares:') + 1\n",
    "    pairs_end = rows.index('Sampling rate:')\n",
    "    \n",
    "    pairs = rows[pairs_start: pairs_end]\n",
    "    \n",
    "    device_info = {\n",
    "        'name': name,\n",
    "        'channels': pairs,\n",
    "    }\n",
    "    devices_info.append(device_info)\n",
    "\n",
    "pprint(devices_info)"
   ]
  },
  {
   "cell_type": "code",
   "execution_count": null,
   "metadata": {},
   "outputs": [],
   "source": []
  }
 ],
 "metadata": {
  "kernelspec": {
   "display_name": "Python 3",
   "language": "python",
   "name": "python3"
  },
  "language_info": {
   "codemirror_mode": {
    "name": "ipython",
    "version": 3
   },
   "file_extension": ".py",
   "mimetype": "text/x-python",
   "name": "python",
   "nbconvert_exporter": "python",
   "pygments_lexer": "ipython3",
   "version": "3.7.7"
  }
 },
 "nbformat": 4,
 "nbformat_minor": 4
}
