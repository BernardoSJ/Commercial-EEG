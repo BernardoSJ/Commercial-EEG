{
 "cells": [
  {
   "cell_type": "code",
   "execution_count": 21,
   "metadata": {},
   "outputs": [],
   "source": [
    "import mne\n",
    "import glob\n",
    "from pprint import pprint"
   ]
  },
  {
   "cell_type": "code",
   "execution_count": 40,
   "metadata": {},
   "outputs": [],
   "source": [
    "# Constantes: Dataset\n",
    "patient = '01'\n",
    "sample_rate = 256\n",
    "\n",
    "# Otras constantes\n",
    "seconds = 30\n",
    "window_size = seconds * sample_rate"
   ]
  },
  {
   "cell_type": "code",
   "execution_count": 23,
   "metadata": {},
   "outputs": [],
   "source": [
    "info = f'./chb{paciente}/chb{paciente}-summary.txt'\n",
    "eegs = glob.glob(f'./chb{paciente}/*.edf')\n",
    "eegs.sort()"
   ]
  },
  {
   "cell_type": "code",
   "execution_count": 39,
   "metadata": {},
   "outputs": [],
   "source": [
    "with open(info, 'r') as f:\n",
    "    summary = f.read()\n",
    "\n",
    "info_eegs_raw = summary.split('\\n\\n')[2:-1]\n",
    "\n",
    "info_eegs = list()\n",
    "\n",
    "for file_info in info_eegs_raw:\n",
    "    info_eeg = dict()\n",
    "    for row in file_info.split('\\n'):\n",
    "        key, value = row.split(': ')\n",
    "        value.strip()\n",
    "        info_eeg[key] = value\n",
    "    info_eegs.append(info_eeg)"
   ]
  },
  {
   "cell_type": "code",
   "execution_count": 49,
   "metadata": {},
   "outputs": [
    {
     "name": "stdout",
     "output_type": "stream",
     "text": [
      "Extracting EDF parameters from /home/heladioac/Documentos/Proyectos/Untitled Folder/chb01/chb01_07.edf...\n",
      "EDF file detected\n",
      "Setting channel info structure...\n",
      "Creating raw.info structure...\n"
     ]
    },
    {
     "name": "stderr",
     "output_type": "stream",
     "text": [
      "<ipython-input-49-6548b39debf2>:4: RuntimeWarning: Channel names are not unique, found duplicates for: {'T8-P8'}. Applying running numbers for duplicates.\n",
      "  eeg = mne.io.read_raw_edf(eeg_file)\n"
     ]
    },
    {
     "data": {
      "text/plain": [
       "(23, 921600)"
      ]
     },
     "execution_count": 49,
     "metadata": {},
     "output_type": "execute_result"
    }
   ],
   "source": []
  }
 ],
 "metadata": {
  "kernelspec": {
   "display_name": "Python 3",
   "language": "python",
   "name": "python3"
  },
  "language_info": {
   "codemirror_mode": {
    "name": "ipython",
    "version": 3
   },
   "file_extension": ".py",
   "mimetype": "text/x-python",
   "name": "python",
   "nbconvert_exporter": "python",
   "pygments_lexer": "ipython3",
   "version": "3.7.7"
  }
 },
 "nbformat": 4,
 "nbformat_minor": 4
}
